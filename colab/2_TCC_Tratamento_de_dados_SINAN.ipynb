{
  "nbformat": 4,
  "nbformat_minor": 0,
  "metadata": {
    "colab": {
      "provenance": []
    },
    "kernelspec": {
      "name": "python3",
      "display_name": "Python 3"
    },
    "language_info": {
      "name": "python"
    }
  },
  "cells": [
    {
      "cell_type": "code",
      "execution_count": null,
      "metadata": {
        "id": "ihcucDHMdJkC"
      },
      "outputs": [],
      "source": [
        "import pandas as pd\n",
        "import numpy as np\n",
        "pd.set_option('display.max_rows', None)"
      ]
    },
    {
      "cell_type": "code",
      "source": [
        "df = pd.read_csv('drive/MyDrive/violencia_2009_2021.csv')"
      ],
      "metadata": {
        "colab": {
          "base_uri": "https://localhost:8080/"
        },
        "id": "COf6mB1GeFa2",
        "outputId": "1d4dd788-f2ed-4a7e-d094-20e3783c1b84"
      },
      "execution_count": null,
      "outputs": [
        {
          "output_type": "stream",
          "name": "stderr",
          "text": [
            "<ipython-input-2-11b5eddc39a3>:1: DtypeWarning: Columns (14,16,20,42,48,52) have mixed types. Specify dtype option on import or set low_memory=False.\n",
            "  df = pd.read_csv('drive/MyDrive/violencia_2009_2021.csv')\n"
          ]
        }
      ]
    },
    {
      "cell_type": "code",
      "source": [
        "df.shape"
      ],
      "metadata": {
        "colab": {
          "base_uri": "https://localhost:8080/"
        },
        "id": "9QZOH5ntXT-a",
        "outputId": "2b6269a5-089b-4ef7-d7cc-165d3ef11dc3"
      },
      "execution_count": null,
      "outputs": [
        {
          "output_type": "execute_result",
          "data": {
            "text/plain": [
              "(1700365, 100)"
            ]
          },
          "metadata": {},
          "execution_count": 3
        }
      ]
    },
    {
      "cell_type": "markdown",
      "source": [
        "# Tratamentos a realizar\n",
        "- Transformar nulos em nulos\n",
        "- Transformar numéricos em numéricos\n",
        "- Alterar os resultados das colunas para os do dicionário"
      ],
      "metadata": {
        "id": "vKUnNkR_dfCD"
      }
    },
    {
      "cell_type": "code",
      "source": [
        "col_conjunto = ['DEF_TRANS', 'OUT_VEZES', 'LES_AUTOP', 'VIOL_FISIC', 'VIOL_PSICO', 'VIOL_TORT', 'VIOL_SEXU',\n",
        "                'VIOL_TRAF', 'VIOL_FINAN', 'VIOL_LEGAL', 'VIOL_NEGLI', 'VIOL_INFAN', 'AG_FORCA', 'AG_ENFOR',\n",
        "                'AG_OBJETO', 'AG_CORTE', 'AG_QUENTE', 'AG_ENVEN', 'AG_FOGO', 'AG_AMEACA', 'SEX_ESTUPR',\n",
        "                'SEX_PUDOR', 'SEX_EXPLO', 'SEX_PORNO', 'REL_PAI', 'REL_PAD', 'REL_MAD', 'REL_CONJ', 'REL_EXCON',\n",
        "                'REL_NAMO', 'REL_EXNAM', 'REL_FILHO', 'REL_DESCO', 'REL_IRMAO', 'REL_CUIDA', 'REL_CONHEC',\n",
        "                'REL_PATRAO', 'REL_INST', 'REL_MAE', 'REL_POL', 'AUTOR_ALCO', 'ENC_TUTELA',\n",
        "                'ENC_VARA', 'ENC_ABRIGO', 'ENC_SENTIN', 'ENC_DEAM', 'ENC_DPCA', 'ENC_DELEG', 'ENC_MPU',\n",
        "                'ENC_MULHER', 'ENC_CREAS', 'ENC_IML', 'REL_TRAB', 'REDE_SAU', 'ASSIST_SOC', 'REDE_EDUCA',\n",
        "                'ATEND_MULH', 'DIR_HUMAN', 'MPU', 'DELEG_MULH', 'DELEG', 'DEFEN_PUBL', 'ENC_SAUDE', 'SEX_ASSEDI']\n",
        "\n",
        "col_data_hora = ['DT_ENCERRA', 'DT_OBITO', 'HORA_OCOR', 'DT_OCOR', 'DT_NOTIFIC']\n",
        "\n",
        "col_outros_tratamentos = ['AUTOR_SEXO', 'NUM_ENVOLV', 'LOCAL_OCOR', 'ID_MN_OCOR', 'ANO_NASC',\n",
        "                          'SG_UF_OCOR', 'ID_OCUPA_N', 'ID_PAIS', 'ID_MN_RESI', 'SG_UF', 'CS_ESCOL_N', 'CS_RACA',\n",
        "                          'CS_GESTANT', 'ID_MUNICIP', 'SG_UF_NOT', 'NU_ANO', 'ORIENT_SEX', 'IDENT_GEN', 'VIOL_MOTIV',\n",
        "                          'CICL_VID', 'SIT_CONJUG', 'ID_UNIDADE']\n",
        "\n",
        "col_fora_dict = ['CLASSI_FIN', 'EVOLUCAO', 'REL_SEXUAL', 'LESAO_CORP', 'LESAO_NAT', 'LESAO_ESPE']\n",
        "\n",
        "col_drop = ['TP_NOT']\n",
        "\n",
        "col_filtragem = ['CS_SEXO', 'NDUPLIC']\n",
        "\n",
        "listas_tratamentos = ['col_conjunto', 'col_data_hora', 'col_outros_tratamentos', 'col_fora_dict', 'col_drop',\n",
        "                      'col_filtragem']\n"
      ],
      "metadata": {
        "id": "IAa_Sr84lTyj"
      },
      "execution_count": null,
      "outputs": []
    },
    {
      "cell_type": "markdown",
      "source": [
        "## Transformando nulos em nulos"
      ],
      "metadata": {
        "id": "vOJWV9Bbdk-C"
      }
    },
    {
      "cell_type": "code",
      "source": [
        "df.replace('', None, inplace=True)"
      ],
      "metadata": {
        "id": "Xo9nqGiBdldj"
      },
      "execution_count": null,
      "outputs": []
    },
    {
      "cell_type": "code",
      "source": [
        "df.isna().mean()*100"
      ],
      "metadata": {
        "colab": {
          "base_uri": "https://localhost:8080/"
        },
        "id": "F0Wz9Mbqd0av",
        "outputId": "26816dcb-02ef-48a2-d451-193acabcb43e"
      },
      "execution_count": null,
      "outputs": [
        {
          "output_type": "execute_result",
          "data": {
            "text/plain": [
              "TP_NOT          0.000000\n",
              "DT_NOTIFIC      0.000000\n",
              "NU_ANO          0.001411\n",
              "SG_UF_NOT       0.000000\n",
              "ID_MUNICIP      0.000000\n",
              "ID_UNIDADE      0.180020\n",
              "DT_OCOR         0.817001\n",
              "ANO_NASC        2.581563\n",
              "CS_SEXO         0.000000\n",
              "CS_GESTANT      0.000000\n",
              "CS_RACA         1.284959\n",
              "CS_ESCOL_N      5.774937\n",
              "SG_UF           0.016055\n",
              "ID_MN_RESI      0.016055\n",
              "ID_PAIS         0.271765\n",
              "NDUPLIC       100.000000\n",
              "ID_OCUPA_N     54.280581\n",
              "SIT_CONJUG      2.689070\n",
              "DEF_TRANS       1.873362\n",
              "SG_UF_OCOR      2.814690\n",
              "ID_MN_OCOR      3.859348\n",
              "HORA_OCOR      43.547356\n",
              "LOCAL_OCOR      1.475036\n",
              "OUT_VEZES       2.135659\n",
              "LES_AUTOP       2.662134\n",
              "VIOL_FISIC      1.908708\n",
              "VIOL_PSICO      3.632808\n",
              "VIOL_TORT       4.623301\n",
              "VIOL_SEXU       4.231268\n",
              "VIOL_TRAF       4.707460\n",
              "VIOL_FINAN      4.660470\n",
              "VIOL_LEGAL      4.720045\n",
              "VIOL_NEGLI      4.216742\n",
              "VIOL_INFAN      4.732866\n",
              "AG_FORCA        3.252831\n",
              "AG_ENFOR        5.376081\n",
              "AG_OBJETO       5.398900\n",
              "AG_CORTE        5.228407\n",
              "AG_QUENTE       5.474236\n",
              "AG_ENVEN        5.546162\n",
              "AG_FOGO         5.431187\n",
              "AG_AMEACA       4.889009\n",
              "SEX_ASSEDI      4.774445\n",
              "SEX_ESTUPR      4.683289\n",
              "SEX_PUDOR      68.617679\n",
              "SEX_EXPLO       4.921590\n",
              "SEX_PORNO       4.926707\n",
              "LESAO_NAT      75.125164\n",
              "LESAO_ESPE     96.747639\n",
              "LESAO_CORP     74.893802\n",
              "NUM_ENVOLV      2.356670\n",
              "REL_SEXUAL     74.524823\n",
              "REL_PAI         5.415720\n",
              "REL_PAD         5.633790\n",
              "REL_MAD         5.710715\n",
              "REL_CONJ        4.862721\n",
              "REL_EXCON       5.356967\n",
              "REL_NAMO        5.587741\n",
              "REL_EXNAM       5.632085\n",
              "REL_FILHO       5.630556\n",
              "REL_DESCO       5.398782\n",
              "REL_IRMAO       5.676311\n",
              "REL_CUIDA       5.723242\n",
              "REL_CONHEC      5.331973\n",
              "REL_PATRAO      5.733710\n",
              "REL_INST        5.766938\n",
              "REL_MAE         5.295216\n",
              "REL_POL         5.701776\n",
              "AUTOR_SEXO      1.814375\n",
              "AUTOR_ALCO      2.316091\n",
              "ENC_SAUDE      75.823367\n",
              "ENC_TUTELA     77.292287\n",
              "ENC_VARA       77.749660\n",
              "ENC_ABRIGO     77.762833\n",
              "ENC_SENTIN     77.723548\n",
              "ENC_DEAM       77.044105\n",
              "ENC_DPCA       77.723842\n",
              "ENC_DELEG      77.163021\n",
              "ENC_MPU        77.754012\n",
              "ENC_MULHER     77.619570\n",
              "ENC_CREAS      77.629215\n",
              "ENC_IML        77.586577\n",
              "REL_TRAB        3.197843\n",
              "CLASSI_FIN     73.700470\n",
              "EVOLUCAO       75.213792\n",
              "DT_OBITO       99.849621\n",
              "ORIENT_SEX     27.243210\n",
              "IDENT_GEN      27.264911\n",
              "VIOL_MOTIV     27.243033\n",
              "CICL_VID       27.177283\n",
              "REDE_SAU       27.532206\n",
              "ASSIST_SOC     28.267401\n",
              "REDE_EDUCA     28.296278\n",
              "ATEND_MULH     28.277105\n",
              "DIR_HUMAN      28.306746\n",
              "MPU            28.303452\n",
              "DELEG_MULH     28.217059\n",
              "DELEG          28.243995\n",
              "DEFEN_PUBL     28.299806\n",
              "DT_ENCERRA      1.439456\n",
              "dtype: float64"
            ]
          },
          "metadata": {},
          "execution_count": 9
        }
      ]
    },
    {
      "cell_type": "markdown",
      "source": [
        "## Transformando numéricos em numéricos"
      ],
      "metadata": {
        "id": "51nz8xGSd3Ee"
      }
    },
    {
      "cell_type": "code",
      "source": [
        "listas_tratamentos"
      ],
      "metadata": {
        "colab": {
          "base_uri": "https://localhost:8080/"
        },
        "id": "EiiKF9ReykOD",
        "outputId": "1d851a20-663a-4797-cbbb-06ba9e9a345f"
      },
      "execution_count": null,
      "outputs": [
        {
          "output_type": "execute_result",
          "data": {
            "text/plain": [
              "['col_conjunto',\n",
              " 'col_data_hora',\n",
              " 'col_outros_tratamentos',\n",
              " 'col_fora_dict',\n",
              " 'col_drop',\n",
              " 'col_filtragem']"
            ]
          },
          "metadata": {},
          "execution_count": 10
        }
      ]
    },
    {
      "cell_type": "code",
      "source": [
        "print(len(df.columns))\n",
        "df[col_conjunto + col_outros_tratamentos + col_fora_dict +\n",
        "     col_drop + col_filtragem ] =  df[col_conjunto + col_outros_tratamentos +\n",
        "                                        col_fora_dict + col_drop + col_filtragem\n",
        "                                        ].apply(pd.to_numeric, errors='coerce')"
      ],
      "metadata": {
        "id": "b0l3AzUBd3nx",
        "colab": {
          "base_uri": "https://localhost:8080/"
        },
        "outputId": "f4f6932e-4158-455e-fd8d-ad76687a1f29"
      },
      "execution_count": null,
      "outputs": [
        {
          "output_type": "stream",
          "name": "stdout",
          "text": [
            "100\n"
          ]
        }
      ]
    },
    {
      "cell_type": "code",
      "source": [
        "len(df.columns)"
      ],
      "metadata": {
        "colab": {
          "base_uri": "https://localhost:8080/"
        },
        "id": "Jhx1JWbwimvf",
        "outputId": "28193daf-6f91-4608-885c-2a119951ee16"
      },
      "execution_count": null,
      "outputs": [
        {
          "output_type": "execute_result",
          "data": {
            "text/plain": [
              "100"
            ]
          },
          "metadata": {},
          "execution_count": 12
        }
      ]
    },
    {
      "cell_type": "markdown",
      "source": [
        "### Dropar colunas\n",
        "listas: 'col_fora_dict', 'col_drop', 'col_filtragem',"
      ],
      "metadata": {
        "id": "txyDCL6_ARCD"
      }
    },
    {
      "cell_type": "code",
      "source": [
        "df = df.drop(col_fora_dict + col_drop + col_filtragem, axis=1)"
      ],
      "metadata": {
        "id": "KB7OlVMwAP6K"
      },
      "execution_count": null,
      "outputs": []
    },
    {
      "cell_type": "code",
      "source": [
        "len(df.columns)"
      ],
      "metadata": {
        "colab": {
          "base_uri": "https://localhost:8080/"
        },
        "id": "hdWiU5rgBPiD",
        "outputId": "d590646b-efa6-4012-c40d-d1c5e567102d"
      },
      "execution_count": null,
      "outputs": [
        {
          "output_type": "execute_result",
          "data": {
            "text/plain": [
              "91"
            ]
          },
          "metadata": {},
          "execution_count": 14
        }
      ]
    },
    {
      "cell_type": "markdown",
      "source": [
        "## Alterando resposta das colunas\n",
        "- Conjunto de colunas com\n",
        "  - 1: sim\n",
        "  - 2: nao\n",
        "  - 8: não aplicavel\n",
        "  - 9: ignorado\n",
        "\n",
        "- Data e hora\n",
        "\n",
        "- Outros tratamentos\n",
        "\n",
        "- Drop"
      ],
      "metadata": {
        "id": "GXdZHndNxhoT"
      }
    },
    {
      "cell_type": "markdown",
      "source": [
        "### Conjunto de colunas com mesmo tratamento\n",
        "lista: col_conjunto\n",
        "\n",
        "\n"
      ],
      "metadata": {
        "id": "3xuO-n1mCxy5"
      }
    },
    {
      "cell_type": "code",
      "source": [
        "mapeamento = {1.0: 'Sim',\n",
        "              2.0: 'Não',\n",
        "              8.0: 'Não aplicável',\n",
        "              9.0: 'Ignorado'}\n",
        "\n",
        "for coluna in col_conjunto:\n",
        "    df[coluna] = df[coluna].map(lambda x: mapeamento.get(x, np.nan))\n",
        "\n",
        "for coluna in col_conjunto:\n",
        "    print(f'{coluna}\\n{df[coluna].unique()}\\n\\n')"
      ],
      "metadata": {
        "colab": {
          "base_uri": "https://localhost:8080/"
        },
        "id": "yrEtP-CTirMl",
        "outputId": "e32c9950-6d52-4f2f-e483-4f522115234d"
      },
      "execution_count": null,
      "outputs": [
        {
          "output_type": "stream",
          "name": "stdout",
          "text": [
            "DEF_TRANS\n",
            "['Não' 'Ignorado' 'Sim' nan 'Não aplicável']\n",
            "\n",
            "\n",
            "OUT_VEZES\n",
            "['Não' 'Ignorado' 'Sim' nan]\n",
            "\n",
            "\n",
            "LES_AUTOP\n",
            "['Não' 'Ignorado' nan 'Sim']\n",
            "\n",
            "\n",
            "VIOL_FISIC\n",
            "['Sim' 'Não' nan 'Ignorado']\n",
            "\n",
            "\n",
            "VIOL_PSICO\n",
            "['Não' 'Sim' 'Ignorado' nan]\n",
            "\n",
            "\n",
            "VIOL_TORT\n",
            "['Não' 'Sim' 'Ignorado' nan]\n",
            "\n",
            "\n",
            "VIOL_SEXU\n",
            "['Não' 'Sim' 'Ignorado' nan]\n",
            "\n",
            "\n",
            "VIOL_TRAF\n",
            "['Não' 'Ignorado' nan 'Sim']\n",
            "\n",
            "\n",
            "VIOL_FINAN\n",
            "['Não' 'Ignorado' nan 'Sim']\n",
            "\n",
            "\n",
            "VIOL_LEGAL\n",
            "['Não' 'Ignorado' nan 'Sim']\n",
            "\n",
            "\n",
            "VIOL_NEGLI\n",
            "['Sim' 'Não' 'Ignorado' nan]\n",
            "\n",
            "\n",
            "VIOL_INFAN\n",
            "['Não' 'Ignorado' nan 'Sim']\n",
            "\n",
            "\n",
            "AG_FORCA\n",
            "['Sim' 'Não' 'Ignorado' nan]\n",
            "\n",
            "\n",
            "AG_ENFOR\n",
            "['Não' 'Ignorado' nan 'Sim']\n",
            "\n",
            "\n",
            "AG_OBJETO\n",
            "['Não' 'Ignorado' 'Sim' nan]\n",
            "\n",
            "\n",
            "AG_CORTE\n",
            "['Não' 'Sim' 'Ignorado' nan]\n",
            "\n",
            "\n",
            "AG_QUENTE\n",
            "['Não' 'Ignorado' 'Sim' nan]\n",
            "\n",
            "\n",
            "AG_ENVEN\n",
            "['Não' 'Ignorado' nan 'Sim']\n",
            "\n",
            "\n",
            "AG_FOGO\n",
            "['Não' 'Ignorado' 'Sim' nan]\n",
            "\n",
            "\n",
            "AG_AMEACA\n",
            "['Não' 'Ignorado' 'Sim' nan]\n",
            "\n",
            "\n",
            "SEX_ESTUPR\n",
            "['Não aplicável' 'Sim' nan 'Não' 'Ignorado']\n",
            "\n",
            "\n",
            "SEX_PUDOR\n",
            "['Não aplicável' 'Não' 'Sim' nan 'Ignorado']\n",
            "\n",
            "\n",
            "SEX_EXPLO\n",
            "['Não aplicável' 'Sim' 'Não' nan 'Ignorado']\n",
            "\n",
            "\n",
            "SEX_PORNO\n",
            "['Não aplicável' 'Não' 'Sim' nan 'Ignorado']\n",
            "\n",
            "\n",
            "REL_PAI\n",
            "['Não' 'Ignorado' nan 'Sim']\n",
            "\n",
            "\n",
            "REL_PAD\n",
            "['Não' 'Ignorado' 'Sim' nan]\n",
            "\n",
            "\n",
            "REL_MAD\n",
            "['Não' 'Ignorado' nan 'Sim']\n",
            "\n",
            "\n",
            "REL_CONJ\n",
            "['Não' 'Ignorado' 'Sim' nan]\n",
            "\n",
            "\n",
            "REL_EXCON\n",
            "['Não' 'Ignorado' nan 'Sim']\n",
            "\n",
            "\n",
            "REL_NAMO\n",
            "['Não' 'Ignorado' nan 'Sim']\n",
            "\n",
            "\n",
            "REL_EXNAM\n",
            "['Não' 'Ignorado' nan 'Sim']\n",
            "\n",
            "\n",
            "REL_FILHO\n",
            "['Não' 'Ignorado' nan 'Sim']\n",
            "\n",
            "\n",
            "REL_DESCO\n",
            "['Não' 'Sim' 'Ignorado' nan]\n",
            "\n",
            "\n",
            "REL_IRMAO\n",
            "['Não' 'Ignorado' nan 'Sim']\n",
            "\n",
            "\n",
            "REL_CUIDA\n",
            "['Não' 'Ignorado' nan 'Sim']\n",
            "\n",
            "\n",
            "REL_CONHEC\n",
            "['Não' 'Ignorado' nan 'Sim']\n",
            "\n",
            "\n",
            "REL_PATRAO\n",
            "['Não' 'Ignorado' nan 'Sim']\n",
            "\n",
            "\n",
            "REL_INST\n",
            "['Não' 'Ignorado' nan 'Sim']\n",
            "\n",
            "\n",
            "REL_MAE\n",
            "['Sim' 'Não' 'Ignorado' nan]\n",
            "\n",
            "\n",
            "REL_POL\n",
            "['Não' 'Ignorado' nan 'Sim']\n",
            "\n",
            "\n",
            "AUTOR_ALCO\n",
            "['Não' 'Ignorado' 'Sim' nan]\n",
            "\n",
            "\n",
            "ENC_TUTELA\n",
            "['Sim' 'Não' 'Ignorado' nan]\n",
            "\n",
            "\n",
            "ENC_VARA\n",
            "['Não' 'Ignorado' nan 'Sim']\n",
            "\n",
            "\n",
            "ENC_ABRIGO\n",
            "['Não' 'Ignorado' nan 'Sim']\n",
            "\n",
            "\n",
            "ENC_SENTIN\n",
            "['Não' 'Ignorado' nan 'Sim']\n",
            "\n",
            "\n",
            "ENC_DEAM\n",
            "['Não' 'Ignorado' 'Sim' nan]\n",
            "\n",
            "\n",
            "ENC_DPCA\n",
            "['Não' 'Ignorado' nan 'Sim']\n",
            "\n",
            "\n",
            "ENC_DELEG\n",
            "['Não' 'Sim' 'Ignorado' nan]\n",
            "\n",
            "\n",
            "ENC_MPU\n",
            "['Não' 'Ignorado' 'Sim' nan]\n",
            "\n",
            "\n",
            "ENC_MULHER\n",
            "['Não' 'Ignorado' nan 'Sim']\n",
            "\n",
            "\n",
            "ENC_CREAS\n",
            "['Não' 'Ignorado' nan 'Sim']\n",
            "\n",
            "\n",
            "ENC_IML\n",
            "['Não' 'Ignorado' nan 'Sim']\n",
            "\n",
            "\n",
            "REL_TRAB\n",
            "['Não' 'Sim' 'Ignorado' nan]\n",
            "\n",
            "\n",
            "REDE_SAU\n",
            "[nan 'Não' 'Sim' 'Ignorado']\n",
            "\n",
            "\n",
            "ASSIST_SOC\n",
            "[nan 'Não' 'Sim' 'Ignorado']\n",
            "\n",
            "\n",
            "REDE_EDUCA\n",
            "[nan 'Não' 'Sim' 'Ignorado']\n",
            "\n",
            "\n",
            "ATEND_MULH\n",
            "[nan 'Não' 'Ignorado' 'Sim']\n",
            "\n",
            "\n",
            "DIR_HUMAN\n",
            "[nan 'Não' 'Ignorado' 'Sim']\n",
            "\n",
            "\n",
            "MPU\n",
            "[nan 'Não' 'Ignorado' 'Sim']\n",
            "\n",
            "\n",
            "DELEG_MULH\n",
            "[nan 'Não' 'Sim' 'Ignorado']\n",
            "\n",
            "\n",
            "DELEG\n",
            "[nan 'Não' 'Sim' 'Ignorado']\n",
            "\n",
            "\n",
            "DEFEN_PUBL\n",
            "[nan 'Não' 'Ignorado' 'Sim']\n",
            "\n",
            "\n",
            "ENC_SAUDE\n",
            "['Não' 'Sim' nan 'Ignorado' 'Não aplicável']\n",
            "\n",
            "\n",
            "SEX_ASSEDI\n",
            "['Não aplicável' 'Sim' 'Não' nan 'Ignorado']\n",
            "\n",
            "\n"
          ]
        }
      ]
    },
    {
      "cell_type": "markdown",
      "source": [
        "### Data e hora"
      ],
      "metadata": {
        "id": "Dve2lDObsIl4"
      }
    },
    {
      "cell_type": "code",
      "source": [
        "for coluna in col_data_hora:\n",
        "    print(f'{coluna}\\n{df[coluna].unique()}\\n\\n')"
      ],
      "metadata": {
        "colab": {
          "base_uri": "https://localhost:8080/"
        },
        "id": "raBkztIPspD0",
        "outputId": "52148431-ec8f-4043-9b57-9270fb9e06c6"
      },
      "execution_count": null,
      "outputs": [
        {
          "output_type": "stream",
          "name": "stdout",
          "text": [
            "DT_ENCERRA\n",
            "[20090512. 20091201. 20090122. ... 20220813. 20220814. 20220821.]\n",
            "\n",
            "\n",
            "DT_OBITO\n",
            "[      nan 20090308. 20090409. ... 20140617. 20141225. 20150402.]\n",
            "\n",
            "\n",
            "HORA_OCOR\n",
            "[nan '09:00' '22:00' ... '04:48' '00000' '05:36']\n",
            "\n",
            "\n",
            "DT_OCOR\n",
            "[20090512. 20091201. 20090122. ... 20020824. 19970812. 20071207.]\n",
            "\n",
            "\n",
            "DT_NOTIFIC\n",
            "['2009-05-12' '2009-12-01' '2009-01-22' ... '2021-12-18' '2021-12-19'\n",
            " '2021-12-20']\n",
            "\n",
            "\n"
          ]
        }
      ]
    },
    {
      "cell_type": "code",
      "source": [
        "df[['DT_ENCERRA', 'DT_OBITO', 'DT_OCOR']] = df[['DT_ENCERRA', 'DT_OBITO', 'DT_OCOR']].fillna('00010101').astype(int).astype(str)"
      ],
      "metadata": {
        "id": "Z05WN5Ve-Ilk"
      },
      "execution_count": null,
      "outputs": []
    },
    {
      "cell_type": "code",
      "source": [
        "# Verifique se os valores não atendem ao padrão usando regex e negando a condição\n",
        "padrao = r'^\\d{4}(0[1-9]|1[0-2])(0[1-9]|[12]\\d|3[01])$'\n",
        "valores_nao_corretos = ~df['DT_ENCERRA'].str.match(padrao, na=False)\n",
        "\n",
        "# Crie um novo DataFrame com os valores que não atendem ao padrão\n",
        "df_nao_corretos = df[valores_nao_corretos]\n",
        "\n",
        "# Imprima os resultados, se desejar\n",
        "print(\"Valores que não atendem ao padrão:\")\n",
        "print(df_nao_corretos['DT_ENCERRA'].head())"
      ],
      "metadata": {
        "colab": {
          "base_uri": "https://localhost:8080/"
        },
        "id": "qMcY5PzA7Dg0",
        "outputId": "056f2384-a8b6-48fd-cb56-6a044901b303"
      },
      "execution_count": null,
      "outputs": [
        {
          "output_type": "stream",
          "name": "stdout",
          "text": [
            "Valores que não atendem ao padrão:\n",
            "22      10101\n",
            "476     10101\n",
            "796     10101\n",
            "1388    10101\n",
            "2250    10101\n",
            "Name: DT_ENCERRA, dtype: object\n"
          ]
        }
      ]
    },
    {
      "cell_type": "code",
      "source": [
        "df.loc[df.DT_ENCERRA == '10101','DT_ENCERRA'] = '00010101'\n",
        "df.loc[df.DT_OBITO == '10101','DT_OBITO'] = '00010101'\n",
        "df.loc[df.DT_OCOR == '10101','DT_OCOR'] = '00010101'"
      ],
      "metadata": {
        "id": "d-dFM2Jo-QY5"
      },
      "execution_count": null,
      "outputs": []
    },
    {
      "cell_type": "code",
      "source": [
        "df[['DT_ENCERRA', 'DT_OBITO', 'DT_OCOR']] = df[['DT_ENCERRA', 'DT_OBITO',\n",
        "                                                    'DT_OCOR']].replace('00010101', np.nan)\n",
        "\n",
        "df['DT_ENCERRA'] = pd.to_datetime(df['DT_ENCERRA'], format='%Y%m%d').dt.strftime('%d/%m/%Y')\n",
        "df['DT_OBITO'] = pd.to_datetime(df['DT_OBITO'], format='%Y%m%d').dt.strftime('%d/%m/%Y')\n",
        "df['DT_OCOR'] = pd.to_datetime(df['DT_OCOR'], format='%Y%m%d').dt.strftime('%d/%m/%Y')"
      ],
      "metadata": {
        "id": "CyrlqQ-Q_NgD"
      },
      "execution_count": null,
      "outputs": []
    },
    {
      "cell_type": "code",
      "source": [
        "df['DT_NOTIFIC'] = pd.to_datetime(df['DT_NOTIFIC'], format='%Y-%m-%d').dt.strftime('%d/%m/%Y')"
      ],
      "metadata": {
        "id": "vpc-WL7s3ITT"
      },
      "execution_count": null,
      "outputs": []
    },
    {
      "cell_type": "code",
      "source": [
        "df.loc[df.HORA_OCOR == '00000'] = np.nan\n",
        "df['HORA_OCOR'] = pd.to_datetime(df['HORA_OCOR'], format='%H:%M').dt.strftime('%H:%M')"
      ],
      "metadata": {
        "id": "XeV84NrI3irW"
      },
      "execution_count": null,
      "outputs": []
    },
    {
      "cell_type": "markdown",
      "source": [
        "### Outros tratamentos\n",
        "Aqui tem que tratar coluna por coluna\n",
        "\n",
        "lista: col_outros_tratamentos"
      ],
      "metadata": {
        "id": "i4Q-ppYPUUdW"
      }
    },
    {
      "cell_type": "markdown",
      "source": [
        "#### AUTOR_SEXO"
      ],
      "metadata": {
        "id": "HVKciqY1WPmK"
      }
    },
    {
      "cell_type": "code",
      "source": [
        "df.AUTOR_SEXO.unique()"
      ],
      "metadata": {
        "colab": {
          "base_uri": "https://localhost:8080/"
        },
        "id": "dT7xWFMiYp-k",
        "outputId": "ecfe58e5-27f5-4b19-a60a-3cad36f43c89"
      },
      "execution_count": null,
      "outputs": [
        {
          "output_type": "execute_result",
          "data": {
            "text/plain": [
              "array([ 2.,  1.,  9., nan,  3.])"
            ]
          },
          "metadata": {},
          "execution_count": 23
        }
      ]
    },
    {
      "cell_type": "code",
      "source": [
        "mapeamento = {1.0: 'Masculino',\n",
        "              2.0: 'Feminino',\n",
        "              8.0: 'Ambos',\n",
        "              9.0: 'Ignorado'}\n",
        "\n",
        "coluna = 'AUTOR_SEXO'\n",
        "\n",
        "# Substituir valores diferentes pelos que estão no mapeamento e o restante por NaN\n",
        "df[coluna] = df[coluna].map(lambda x: mapeamento.get(x, np.nan))\n",
        "\n",
        "df[coluna].unique()"
      ],
      "metadata": {
        "colab": {
          "base_uri": "https://localhost:8080/"
        },
        "id": "xQNuA0WWvSNX",
        "outputId": "a74dec13-a7e5-444e-8bf0-2816356dd274"
      },
      "execution_count": null,
      "outputs": [
        {
          "output_type": "execute_result",
          "data": {
            "text/plain": [
              "array(['Feminino', 'Masculino', 'Ignorado', nan], dtype=object)"
            ]
          },
          "metadata": {},
          "execution_count": 24
        }
      ]
    },
    {
      "cell_type": "markdown",
      "source": [
        "#### NUM_ENVOLV\n"
      ],
      "metadata": {
        "id": "SxFNVAhhWTOL"
      }
    },
    {
      "cell_type": "code",
      "source": [
        "df.NUM_ENVOLV.unique()"
      ],
      "metadata": {
        "colab": {
          "base_uri": "https://localhost:8080/"
        },
        "id": "Jb9zNjapWXbw",
        "outputId": "a91db261-2a98-4a7d-bb78-ef069df65302"
      },
      "execution_count": null,
      "outputs": [
        {
          "output_type": "execute_result",
          "data": {
            "text/plain": [
              "array([ 1.,  9.,  2., nan,  3.])"
            ]
          },
          "metadata": {},
          "execution_count": 25
        }
      ]
    },
    {
      "cell_type": "code",
      "source": [
        "mapeamento = {1.0: 'Um',\n",
        "              2.0: 'Dois ou mais',\n",
        "              9.0: 'Ignorado'}\n",
        "\n",
        "coluna = 'NUM_ENVOLV'\n",
        "\n",
        "# Substituir valores diferentes pelos que estão no mapeamento e o restante por NaN\n",
        "df[coluna] = df[coluna].map(lambda x: mapeamento.get(x, np.nan))\n",
        "\n",
        "df[coluna].unique()"
      ],
      "metadata": {
        "colab": {
          "base_uri": "https://localhost:8080/"
        },
        "id": "h5qBaOqYgPQf",
        "outputId": "92ac744b-4154-4f53-fc31-3233e81b7dff"
      },
      "execution_count": null,
      "outputs": [
        {
          "output_type": "execute_result",
          "data": {
            "text/plain": [
              "array(['Um', 'Ignorado', 'Dois ou mais', nan], dtype=object)"
            ]
          },
          "metadata": {},
          "execution_count": 26
        }
      ]
    },
    {
      "cell_type": "markdown",
      "source": [
        "#### LOCAL_OCOR"
      ],
      "metadata": {
        "id": "EIg-blBvWgJb"
      }
    },
    {
      "cell_type": "code",
      "source": [
        "df.LOCAL_OCOR.unique()"
      ],
      "metadata": {
        "colab": {
          "base_uri": "https://localhost:8080/"
        },
        "id": "K2f4p27HuYL1",
        "outputId": "a96fef02-d444-4bc1-f014-fed9f5f56502"
      },
      "execution_count": null,
      "outputs": [
        {
          "output_type": "execute_result",
          "data": {
            "text/plain": [
              "array([ 1.,  7., 99.,  9.,  6., nan,  3.,  2.,  5.,  4.,  8.])"
            ]
          },
          "metadata": {},
          "execution_count": 27
        }
      ]
    },
    {
      "cell_type": "code",
      "source": [
        "mapeamento = {1.0: 'Residência',\n",
        "              2.0: 'Habitação_coletiva',\n",
        "              3.0: 'Escola',\n",
        "              4.0: 'Local_prática_esportiva',\n",
        "              5.0: 'Bar_ou_similar',\n",
        "              6.0: 'Via_publica',\n",
        "              7.0: 'Comércio_serviços',\n",
        "              8.0: 'Industrias_construção',\n",
        "              9.0: 'Outros',\n",
        "              99.0: 'Ignorado'}\n",
        "\n",
        "coluna = 'LOCAL_OCOR'\n",
        "\n",
        "# Substituir valores diferentes pelos que estão no mapeamento e o restante por NaN\n",
        "df[coluna] = df[coluna].map(lambda x: mapeamento.get(x, np.nan))\n",
        "\n",
        "df[coluna].unique()"
      ],
      "metadata": {
        "colab": {
          "base_uri": "https://localhost:8080/"
        },
        "id": "Vf8dkFHoj_cp",
        "outputId": "b4060983-4a3e-4897-dc85-447cb815ce9f"
      },
      "execution_count": null,
      "outputs": [
        {
          "output_type": "execute_result",
          "data": {
            "text/plain": [
              "array(['Residência', 'Comércio_serviços', 'Ignorado', 'Outros',\n",
              "       'Via_publica', nan, 'Escola', 'Habitação_coletiva',\n",
              "       'Bar_ou_similar', 'Local_prática_esportiva',\n",
              "       'Industrias_construção'], dtype=object)"
            ]
          },
          "metadata": {},
          "execution_count": 28
        }
      ]
    },
    {
      "cell_type": "markdown",
      "source": [
        "#### CS_ESCOL_N"
      ],
      "metadata": {
        "id": "1LbtOSRUXOA8"
      }
    },
    {
      "cell_type": "code",
      "source": [
        "df.CS_ESCOL_N.unique()"
      ],
      "metadata": {
        "colab": {
          "base_uri": "https://localhost:8080/"
        },
        "id": "CmEp1kQmueXQ",
        "outputId": "b4cc0ddf-cb75-4fb6-e9e6-76bb6ba4b4b3"
      },
      "execution_count": null,
      "outputs": [
        {
          "output_type": "execute_result",
          "data": {
            "text/plain": [
              "array([10.,  6.,  9.,  4.,  1.,  3., nan,  8.,  2.,  5.,  7.,  0.])"
            ]
          },
          "metadata": {},
          "execution_count": 47
        }
      ]
    },
    {
      "cell_type": "code",
      "source": [
        "mapeamento = {0.0: 'Analfabeto',\n",
        "              1.0: 'Fundamental I incompleto',\n",
        "              2.0: 'Fundamental I completo',\n",
        "              3.0: 'Fundamental II incompleto',\n",
        "              4.0: 'Fundamental II completo',\n",
        "              5.0: 'Ensino médio incompleto',\n",
        "              6.0: 'Ensino médio completo',\n",
        "              7.0: 'Educação superior incompleta',\n",
        "              8.0: 'Educação superior completa',\n",
        "              9.0: 'Ignorado',\n",
        "              10.0: 'Não aplicável'}\n",
        "\n",
        "coluna = 'CS_ESCOL_N'\n",
        "\n",
        "# Substituir valores diferentes pelos que estão no mapeamento e o restante por NaN\n",
        "df[coluna] = df[coluna].map(lambda x: mapeamento.get(x, np.nan))\n",
        "\n",
        "df[coluna].unique()"
      ],
      "metadata": {
        "colab": {
          "base_uri": "https://localhost:8080/"
        },
        "id": "FAj_3uhHnBc5",
        "outputId": "5be00331-b574-4598-fb30-dd12110418fb"
      },
      "execution_count": null,
      "outputs": [
        {
          "output_type": "execute_result",
          "data": {
            "text/plain": [
              "array(['Não aplicável', 'Ensino médio completo', 'Ignorado',\n",
              "       'Fundamental II completo', 'Fundamental I incompleto',\n",
              "       'Fundamental II incompleto', nan, 'Educação superior completa',\n",
              "       'Fundamental I completo', 'Ensino médio incompleto',\n",
              "       'Educação superior incompleta', 'Analfabeto'], dtype=object)"
            ]
          },
          "metadata": {},
          "execution_count": 48
        }
      ]
    },
    {
      "cell_type": "markdown",
      "source": [
        "#### CS_RACA"
      ],
      "metadata": {
        "id": "5uoRIWDsXSjx"
      }
    },
    {
      "cell_type": "code",
      "source": [
        "df.CS_RACA.unique()"
      ],
      "metadata": {
        "colab": {
          "base_uri": "https://localhost:8080/"
        },
        "id": "yAqYR-xNue8d",
        "outputId": "42a6e76b-7e55-4c0e-f4f8-46906c240da8"
      },
      "execution_count": null,
      "outputs": [
        {
          "output_type": "execute_result",
          "data": {
            "text/plain": [
              "array([ 1.,  2.,  9.,  4.,  5., nan,  3.])"
            ]
          },
          "metadata": {},
          "execution_count": 49
        }
      ]
    },
    {
      "cell_type": "code",
      "source": [
        "mapeamento = {1.0: 'Branca',\n",
        "              2.0: 'Preta',\n",
        "              3.0: 'Amarela',\n",
        "              4.0: 'Parda',\n",
        "              5.0: 'Indigena'}\n",
        "\n",
        "coluna = 'CS_RACA'\n",
        "\n",
        "# Substituir valores diferentes pelos que estão no mapeamento e o restante por NaN\n",
        "df[coluna] = df[coluna].map(lambda x: mapeamento.get(x, np.nan))\n",
        "\n",
        "df[coluna].unique()"
      ],
      "metadata": {
        "id": "E0KmWIxw5bMl",
        "colab": {
          "base_uri": "https://localhost:8080/"
        },
        "outputId": "8a1b7b56-7e77-4a50-ddac-7d5fbfdb267a"
      },
      "execution_count": null,
      "outputs": [
        {
          "output_type": "execute_result",
          "data": {
            "text/plain": [
              "array(['Branca', 'Preta', nan, 'Parda', 'Indigena', 'Amarela'],\n",
              "      dtype=object)"
            ]
          },
          "metadata": {},
          "execution_count": 50
        }
      ]
    },
    {
      "cell_type": "markdown",
      "source": [
        "#### CS_GESTANT"
      ],
      "metadata": {
        "id": "sXfjD4oNXSvK"
      }
    },
    {
      "cell_type": "code",
      "source": [
        "df.CS_GESTANT.unique()"
      ],
      "metadata": {
        "colab": {
          "base_uri": "https://localhost:8080/"
        },
        "id": "XA1uxMRDuf0M",
        "outputId": "23db5f41-9a45-4952-ce91-f6ab35d2bd0d"
      },
      "execution_count": null,
      "outputs": [
        {
          "output_type": "execute_result",
          "data": {
            "text/plain": [
              "array([ 6.,  5.,  9.,  4.,  3.,  1.,  2., nan,  8.])"
            ]
          },
          "metadata": {},
          "execution_count": 51
        }
      ]
    },
    {
      "cell_type": "code",
      "source": [
        "mapeamento = {1.0: '1º Trimestre',\n",
        "              2.0: '2º Trimestre',\n",
        "              3.0: '3º Trimestre',\n",
        "              4.0: 'Idade gestacional ignorada',\n",
        "              5.0: 'Não',\n",
        "              6.0: 'Não se aplica',\n",
        "              9.0: 'Ignorado' }\n",
        "\n",
        "coluna = 'CS_GESTANT'\n",
        "\n",
        "# Substituir valores diferentes pelos que estão no mapeamento e o restante por NaN\n",
        "df[coluna] = df[coluna].map(lambda x: mapeamento.get(x, np.nan))\n",
        "\n",
        "df[coluna].unique()"
      ],
      "metadata": {
        "id": "vuP6FBAB7cSs",
        "colab": {
          "base_uri": "https://localhost:8080/"
        },
        "outputId": "d77cd33f-00eb-450b-e3ed-246bf84236d3"
      },
      "execution_count": null,
      "outputs": [
        {
          "output_type": "execute_result",
          "data": {
            "text/plain": [
              "array(['Não se aplica', 'Não', 'Ignorado', 'Idade gestacional ignorada',\n",
              "       '3º Trimestre', '1º Trimestre', '2º Trimestre', nan], dtype=object)"
            ]
          },
          "metadata": {},
          "execution_count": 52
        }
      ]
    },
    {
      "cell_type": "markdown",
      "source": [
        "#### ORIENT_SEX"
      ],
      "metadata": {
        "id": "3JwLk635XTVb"
      }
    },
    {
      "cell_type": "code",
      "source": [
        "df.ORIENT_SEX.unique()"
      ],
      "metadata": {
        "colab": {
          "base_uri": "https://localhost:8080/"
        },
        "id": "WPO_ZY2tujvg",
        "outputId": "390d9f4f-c83a-40c3-8628-0702fa917fa3"
      },
      "execution_count": null,
      "outputs": [
        {
          "output_type": "execute_result",
          "data": {
            "text/plain": [
              "array([nan,  9.,  1.,  8.,  2.,  3.])"
            ]
          },
          "metadata": {},
          "execution_count": 57
        }
      ]
    },
    {
      "cell_type": "code",
      "source": [
        "mapeamento = {1.0: 'Heterossexual',\n",
        "              2.0: 'Homossexual',\n",
        "              3.0: 'Bissexual',\n",
        "              8.0: 'Não se aplica',\n",
        "              9.0: 'Ignorado'}\n",
        "\n",
        "coluna = 'ORIENT_SEX'\n",
        "\n",
        "# Substituir valores diferentes pelos que estão no mapeamento e o restante por NaN\n",
        "df[coluna] = df[coluna].map(lambda x: mapeamento.get(x, np.nan))\n",
        "\n",
        "df[coluna].unique()"
      ],
      "metadata": {
        "id": "GWlvEtDa7fsB",
        "colab": {
          "base_uri": "https://localhost:8080/"
        },
        "outputId": "5565e846-2c22-4ff0-c7d4-7ab28f2a60de"
      },
      "execution_count": null,
      "outputs": [
        {
          "output_type": "execute_result",
          "data": {
            "text/plain": [
              "array([nan, 'Ignorado', 'Heterossexual', 'Não se aplica', 'Homossexual',\n",
              "       'Bissexual'], dtype=object)"
            ]
          },
          "metadata": {},
          "execution_count": 58
        }
      ]
    },
    {
      "cell_type": "markdown",
      "source": [
        "#### IDENT_GEN"
      ],
      "metadata": {
        "id": "JG8R4coFXTd5"
      }
    },
    {
      "cell_type": "code",
      "source": [
        "df.IDENT_GEN.unique()"
      ],
      "metadata": {
        "colab": {
          "base_uri": "https://localhost:8080/"
        },
        "id": "Q-OyyF-cukI6",
        "outputId": "19910733-c370-4204-f360-349b8a3fbe3c"
      },
      "execution_count": null,
      "outputs": [
        {
          "output_type": "execute_result",
          "data": {
            "text/plain": [
              "array([nan,  9.,  8.,  2.,  3.,  1.])"
            ]
          },
          "metadata": {},
          "execution_count": 59
        }
      ]
    },
    {
      "cell_type": "code",
      "source": [
        "mapeamento = {1.0: 'Travesti',\n",
        "              2.0: 'Transexual Mulher',\n",
        "              3.0: 'Transexual Homem',\n",
        "              4.0: 'Não se aplica',\n",
        "              5.0: 'Ignorado'}\n",
        "\n",
        "coluna = 'IDENT_GEN'\n",
        "\n",
        "# Substituir valores diferentes pelos que estão no mapeamento e o restante por NaN\n",
        "df[coluna] = df[coluna].map(lambda x: mapeamento.get(x, np.nan))\n",
        "\n",
        "df[coluna].unique()"
      ],
      "metadata": {
        "id": "_nkoAK0U7g6r",
        "colab": {
          "base_uri": "https://localhost:8080/"
        },
        "outputId": "49f1e1ba-48f3-4670-f302-3b75b7db64c6"
      },
      "execution_count": null,
      "outputs": [
        {
          "output_type": "execute_result",
          "data": {
            "text/plain": [
              "array([nan, 'Transexual Mulher', 'Transexual Homem', 'Travesti'],\n",
              "      dtype=object)"
            ]
          },
          "metadata": {},
          "execution_count": 60
        }
      ]
    },
    {
      "cell_type": "markdown",
      "source": [
        "#### VIOL_MOTIV"
      ],
      "metadata": {
        "id": "LEWINQKkXTmt"
      }
    },
    {
      "cell_type": "code",
      "source": [
        "df.VIOL_MOTIV.unique()"
      ],
      "metadata": {
        "colab": {
          "base_uri": "https://localhost:8080/"
        },
        "id": "vokuCB_PukxA",
        "outputId": "ce1c030d-9ace-4ac1-b1c7-e5fc43b22e6c"
      },
      "execution_count": null,
      "outputs": [
        {
          "output_type": "execute_result",
          "data": {
            "text/plain": [
              "array([nan,  9., 88., 99.,  6.,  7.,  8.,  1.,  2.,  4.,  3.,  5.])"
            ]
          },
          "metadata": {},
          "execution_count": 61
        }
      ]
    },
    {
      "cell_type": "code",
      "source": [
        "mapeamento = {1.0: 'Sexismo',\n",
        "              2.0: 'Homofobia/Lesbofobia/Bifobia/Transfobia',\n",
        "              3.0: 'Racismo',\n",
        "              4.0: 'Intolerância religiosa',\n",
        "              5.0: 'Xenofobia',\n",
        "              6.0: 'Conflito geracional',\n",
        "              7.0: 'Situação de rua',\n",
        "              8.0: 'Deficiência',\n",
        "              9.0: 'Outros',\n",
        "              88.0: 'Não se aplica',\n",
        "              99.0: 'Ignorado'}\n",
        "\n",
        "coluna = 'VIOL_MOTIV'\n",
        "\n",
        "# Substituir valores diferentes pelos que estão no mapeamento e o restante por NaN\n",
        "df[coluna] = df[coluna].map(lambda x: mapeamento.get(x, np.nan))\n",
        "\n",
        "df[coluna].unique()"
      ],
      "metadata": {
        "id": "05kXusAf7hlk",
        "colab": {
          "base_uri": "https://localhost:8080/"
        },
        "outputId": "976cbd31-9878-4056-ed3d-85e22ee97242"
      },
      "execution_count": null,
      "outputs": [
        {
          "output_type": "execute_result",
          "data": {
            "text/plain": [
              "array([nan, 'Outros', 'Não se aplica', 'Ignorado', 'Conflito geracional',\n",
              "       'Situação de rua', 'Deficiência', 'Sexismo',\n",
              "       'Homofobia/Lesbofobia/Bifobia/Transfobia',\n",
              "       'Intolerância religiosa', 'Racismo', 'Xenofobia'], dtype=object)"
            ]
          },
          "metadata": {},
          "execution_count": 62
        }
      ]
    },
    {
      "cell_type": "markdown",
      "source": [
        "#### CICL_VID"
      ],
      "metadata": {
        "id": "8KRLo8m7XTu0"
      }
    },
    {
      "cell_type": "code",
      "source": [
        "df.CICL_VID.unique()"
      ],
      "metadata": {
        "colab": {
          "base_uri": "https://localhost:8080/"
        },
        "id": "oa2m00YAulPJ",
        "outputId": "2c482bcc-32de-46ee-e466-7fd4fa485f45"
      },
      "execution_count": null,
      "outputs": [
        {
          "output_type": "execute_result",
          "data": {
            "text/plain": [
              "array([nan,  9.,  4.,  3.,  2.,  1.,  5.])"
            ]
          },
          "metadata": {},
          "execution_count": 63
        }
      ]
    },
    {
      "cell_type": "code",
      "source": [
        "mapeamento = {1.0: 'Criança',\n",
        "              2.0: 'Adolescente',\n",
        "              3.0: 'Jovem',\n",
        "              4.0: 'Pessoa adulta',\n",
        "              5.0: 'Pessoa idosa',\n",
        "              9.0: 'Ignorado'}\n",
        "\n",
        "coluna = 'CICL_VID'\n",
        "\n",
        "# Substituir valores diferentes pelos que estão no mapeamento e o restante por NaN\n",
        "df[coluna] = df[coluna].map(lambda x: mapeamento.get(x, np.nan))\n",
        "\n",
        "df[coluna].unique()"
      ],
      "metadata": {
        "id": "13sT-FIn7iat",
        "colab": {
          "base_uri": "https://localhost:8080/"
        },
        "outputId": "a60b5e95-61d9-4d0f-8a6d-f61bfe2f27a1"
      },
      "execution_count": null,
      "outputs": [
        {
          "output_type": "execute_result",
          "data": {
            "text/plain": [
              "array([nan, 'Ignorado', 'Pessoa adulta', 'Jovem', 'Adolescente',\n",
              "       'Criança', 'Pessoa idosa'], dtype=object)"
            ]
          },
          "metadata": {},
          "execution_count": 64
        }
      ]
    },
    {
      "cell_type": "markdown",
      "source": [
        "#### SIT_CONJUG"
      ],
      "metadata": {
        "id": "mNitHwU3XT_k"
      }
    },
    {
      "cell_type": "code",
      "source": [
        "df.SIT_CONJUG.unique()"
      ],
      "metadata": {
        "colab": {
          "base_uri": "https://localhost:8080/"
        },
        "id": "RnTbQHoTumNp",
        "outputId": "56d1840c-aeea-46c7-c270-22a90a7aa56e"
      },
      "execution_count": null,
      "outputs": [
        {
          "output_type": "execute_result",
          "data": {
            "text/plain": [
              "array([ 8.,  2.,  9.,  1., nan,  4.,  3.])"
            ]
          },
          "metadata": {},
          "execution_count": 65
        }
      ]
    },
    {
      "cell_type": "code",
      "source": [
        "mapeamento = {1.0: 'Solteiro',\n",
        "              2.0: 'Casado/ União consensual',\n",
        "              3.0: 'Viúvo',\n",
        "              4.0: 'Separado',\n",
        "              8.0: 'Não aplicável',\n",
        "              9.0: 'Ignorado'}\n",
        "\n",
        "coluna = 'SIT_CONJUG'\n",
        "\n",
        "# Substituir valores diferentes pelos que estão no mapeamento e o restante por NaN\n",
        "df[coluna] = df[coluna].map(lambda x: mapeamento.get(x, np.nan))\n",
        "\n",
        "df[coluna].unique()"
      ],
      "metadata": {
        "id": "PYg6zkI47j4H",
        "colab": {
          "base_uri": "https://localhost:8080/"
        },
        "outputId": "8686e8d2-cfe4-4fd6-c16e-ac62ed4636fc"
      },
      "execution_count": null,
      "outputs": [
        {
          "output_type": "execute_result",
          "data": {
            "text/plain": [
              "array(['Não aplicável', 'Casado/ União consensual', 'Ignorado',\n",
              "       'Solteiro', nan, 'Separado', 'Viúvo'], dtype=object)"
            ]
          },
          "metadata": {},
          "execution_count": 66
        }
      ]
    },
    {
      "cell_type": "markdown",
      "source": [
        "#### NU_ANO e ANO_NASC\n"
      ],
      "metadata": {
        "id": "LxJf0ATVXTMw"
      }
    },
    {
      "cell_type": "code",
      "source": [
        "df.NU_ANO.unique()"
      ],
      "metadata": {
        "colab": {
          "base_uri": "https://localhost:8080/"
        },
        "id": "-9I4zhWaujKR",
        "outputId": "eaa5939e-6ad2-4b94-c3be-710f2370d725"
      },
      "execution_count": null,
      "outputs": [
        {
          "output_type": "execute_result",
          "data": {
            "text/plain": [
              "array([2009., 2010., 2011., 2012., 2013.,   nan, 2014., 2015., 2016.,\n",
              "       2017., 2018., 2019., 2020., 2021.])"
            ]
          },
          "metadata": {},
          "execution_count": 53
        }
      ]
    },
    {
      "cell_type": "code",
      "source": [
        "df.ANO_NASC.unique()"
      ],
      "metadata": {
        "id": "3mKbVSNfaRCr",
        "colab": {
          "base_uri": "https://localhost:8080/"
        },
        "outputId": "979765d2-5d99-4c2f-aac6-5f82adb81cb8"
      },
      "execution_count": null,
      "outputs": [
        {
          "output_type": "execute_result",
          "data": {
            "text/plain": [
              "array([2004., 1980.,   nan, 2009., 1988., 1976., 1969., 1942., 1950.,\n",
              "       1982., 1983., 1963., 1967., 1971., 2005., 1993., 2001., 2008.,\n",
              "       1975., 2002., 1966., 1917., 1986., 1973., 1994., 1978., 1992.,\n",
              "       1984., 1989., 1991., 1965., 1979., 1995., 1958., 1999., 1981.,\n",
              "       1946., 1970., 1968., 1972., 1964., 1977., 1990., 1987., 1985.,\n",
              "       1945., 1998., 1996., 1960., 1934., 1941., 1974., 2003., 2006.,\n",
              "       1940., 1927., 1957., 2007., 1997., 1961., 1944., 1956., 1962.,\n",
              "       1951., 1959., 1933., 1939., 1953., 1937., 1929., 1915., 1943.,\n",
              "       2000., 1925., 1923., 1955., 1948., 1949., 1947., 1952., 1935.,\n",
              "       1936., 1931., 1938., 1912., 1930., 1954., 1916., 1932., 1906.,\n",
              "       1922., 1921., 1914., 1926., 1924., 1910., 1928., 1919., 1907.,\n",
              "       1920., 1908., 1918., 1911., 1913., 2010., 1901., 2011., 1909.,\n",
              "       1904., 1900., 1905., 2012., 1902., 2013., 1903., 2014., 2015.,\n",
              "       2016., 2017., 2018., 2019., 2020., 2021.])"
            ]
          },
          "metadata": {},
          "execution_count": 54
        }
      ]
    },
    {
      "cell_type": "code",
      "source": [
        "df['IDADE'] = df['NU_ANO'] - df['ANO_NASC']"
      ],
      "metadata": {
        "id": "h3pDkw4SaUZV"
      },
      "execution_count": null,
      "outputs": []
    },
    {
      "cell_type": "code",
      "source": [
        "df.IDADE.unique()"
      ],
      "metadata": {
        "colab": {
          "base_uri": "https://localhost:8080/"
        },
        "id": "PMdzRxEziER_",
        "outputId": "a3f16d40-a9c8-4b50-8ede-f9ad313c60e2"
      },
      "execution_count": null,
      "outputs": [
        {
          "output_type": "execute_result",
          "data": {
            "text/plain": [
              "array([  5.,  29.,  nan,   0.,  21.,  33.,  40.,  67.,  59.,  27.,  26.,\n",
              "        46.,  42.,  38.,   4.,  16.,   8.,   1.,  34.,   7.,  43.,  92.,\n",
              "        23.,  36.,  15.,  31.,  17.,  25.,  20.,  18.,  44.,  30.,  14.,\n",
              "        51.,  10.,  28.,  63.,  39.,  41.,  37.,  45.,  32.,  19.,  22.,\n",
              "        24.,  64.,  11.,  13.,  49.,  75.,  68.,  35.,   6.,   3.,  69.,\n",
              "        82.,  52.,   2.,  12.,  48.,  65.,  53.,  47.,  58.,  50.,  76.,\n",
              "        70.,  56.,  72.,  80.,  94.,  66.,   9.,  84.,  86.,  54.,  61.,\n",
              "        60.,  62.,  57.,  74.,  73.,  78.,  71.,  97.,  79.,  55.,  93.,\n",
              "        77., 103.,  87.,  88.,  95.,  83.,  85.,  99.,  81.,  90., 102.,\n",
              "        89., 101.,  91.,  98.,  96., 100., 109., 105., 107., 111., 106.,\n",
              "       110., 104., 108., 112., 113., 114., 115., 116., 117., 118., 119.,\n",
              "       121.])"
            ]
          },
          "metadata": {},
          "execution_count": 56
        }
      ]
    },
    {
      "cell_type": "markdown",
      "source": [
        "#### SG_UF_OCOR\n",
        "Extraído do IBGE, de acordo com dicionário de dados\n"
      ],
      "metadata": {
        "id": "bu0cc8csW2bl"
      }
    },
    {
      "cell_type": "code",
      "source": [
        "df_uf = df_municipio.groupby('Nome_UF')['UF'].min().reset_index()\n",
        "df_uf.set_index(\"UF\", inplace=True)"
      ],
      "metadata": {
        "id": "AbqGDivEMPHI"
      },
      "execution_count": null,
      "outputs": []
    },
    {
      "cell_type": "code",
      "source": [
        "df_uf.head()"
      ],
      "metadata": {
        "colab": {
          "base_uri": "https://localhost:8080/",
          "height": 237
        },
        "id": "BXoDLkisMokb",
        "outputId": "b6c9f189-fbb3-4bd8-8c81-1a234a40d7cc"
      },
      "execution_count": null,
      "outputs": [
        {
          "output_type": "execute_result",
          "data": {
            "text/plain": [
              "     Nome_UF\n",
              "UF          \n",
              "12      Acre\n",
              "27   Alagoas\n",
              "16     Amapá\n",
              "13  Amazonas\n",
              "29     Bahia"
            ],
            "text/html": [
              "\n",
              "  <div id=\"df-41dd457b-1b53-442d-8ed8-587bab6c8ec4\" class=\"colab-df-container\">\n",
              "    <div>\n",
              "<style scoped>\n",
              "    .dataframe tbody tr th:only-of-type {\n",
              "        vertical-align: middle;\n",
              "    }\n",
              "\n",
              "    .dataframe tbody tr th {\n",
              "        vertical-align: top;\n",
              "    }\n",
              "\n",
              "    .dataframe thead th {\n",
              "        text-align: right;\n",
              "    }\n",
              "</style>\n",
              "<table border=\"1\" class=\"dataframe\">\n",
              "  <thead>\n",
              "    <tr style=\"text-align: right;\">\n",
              "      <th></th>\n",
              "      <th>Nome_UF</th>\n",
              "    </tr>\n",
              "    <tr>\n",
              "      <th>UF</th>\n",
              "      <th></th>\n",
              "    </tr>\n",
              "  </thead>\n",
              "  <tbody>\n",
              "    <tr>\n",
              "      <th>12</th>\n",
              "      <td>Acre</td>\n",
              "    </tr>\n",
              "    <tr>\n",
              "      <th>27</th>\n",
              "      <td>Alagoas</td>\n",
              "    </tr>\n",
              "    <tr>\n",
              "      <th>16</th>\n",
              "      <td>Amapá</td>\n",
              "    </tr>\n",
              "    <tr>\n",
              "      <th>13</th>\n",
              "      <td>Amazonas</td>\n",
              "    </tr>\n",
              "    <tr>\n",
              "      <th>29</th>\n",
              "      <td>Bahia</td>\n",
              "    </tr>\n",
              "  </tbody>\n",
              "</table>\n",
              "</div>\n",
              "    <div class=\"colab-df-buttons\">\n",
              "\n",
              "  <div class=\"colab-df-container\">\n",
              "    <button class=\"colab-df-convert\" onclick=\"convertToInteractive('df-41dd457b-1b53-442d-8ed8-587bab6c8ec4')\"\n",
              "            title=\"Convert this dataframe to an interactive table.\"\n",
              "            style=\"display:none;\">\n",
              "\n",
              "  <svg xmlns=\"http://www.w3.org/2000/svg\" height=\"24px\" viewBox=\"0 -960 960 960\">\n",
              "    <path d=\"M120-120v-720h720v720H120Zm60-500h600v-160H180v160Zm220 220h160v-160H400v160Zm0 220h160v-160H400v160ZM180-400h160v-160H180v160Zm440 0h160v-160H620v160ZM180-180h160v-160H180v160Zm440 0h160v-160H620v160Z\"/>\n",
              "  </svg>\n",
              "    </button>\n",
              "\n",
              "  <style>\n",
              "    .colab-df-container {\n",
              "      display:flex;\n",
              "      gap: 12px;\n",
              "    }\n",
              "\n",
              "    .colab-df-convert {\n",
              "      background-color: #E8F0FE;\n",
              "      border: none;\n",
              "      border-radius: 50%;\n",
              "      cursor: pointer;\n",
              "      display: none;\n",
              "      fill: #1967D2;\n",
              "      height: 32px;\n",
              "      padding: 0 0 0 0;\n",
              "      width: 32px;\n",
              "    }\n",
              "\n",
              "    .colab-df-convert:hover {\n",
              "      background-color: #E2EBFA;\n",
              "      box-shadow: 0px 1px 2px rgba(60, 64, 67, 0.3), 0px 1px 3px 1px rgba(60, 64, 67, 0.15);\n",
              "      fill: #174EA6;\n",
              "    }\n",
              "\n",
              "    .colab-df-buttons div {\n",
              "      margin-bottom: 4px;\n",
              "    }\n",
              "\n",
              "    [theme=dark] .colab-df-convert {\n",
              "      background-color: #3B4455;\n",
              "      fill: #D2E3FC;\n",
              "    }\n",
              "\n",
              "    [theme=dark] .colab-df-convert:hover {\n",
              "      background-color: #434B5C;\n",
              "      box-shadow: 0px 1px 3px 1px rgba(0, 0, 0, 0.15);\n",
              "      filter: drop-shadow(0px 1px 2px rgba(0, 0, 0, 0.3));\n",
              "      fill: #FFFFFF;\n",
              "    }\n",
              "  </style>\n",
              "\n",
              "    <script>\n",
              "      const buttonEl =\n",
              "        document.querySelector('#df-41dd457b-1b53-442d-8ed8-587bab6c8ec4 button.colab-df-convert');\n",
              "      buttonEl.style.display =\n",
              "        google.colab.kernel.accessAllowed ? 'block' : 'none';\n",
              "\n",
              "      async function convertToInteractive(key) {\n",
              "        const element = document.querySelector('#df-41dd457b-1b53-442d-8ed8-587bab6c8ec4');\n",
              "        const dataTable =\n",
              "          await google.colab.kernel.invokeFunction('convertToInteractive',\n",
              "                                                    [key], {});\n",
              "        if (!dataTable) return;\n",
              "\n",
              "        const docLinkHtml = 'Like what you see? Visit the ' +\n",
              "          '<a target=\"_blank\" href=https://colab.research.google.com/notebooks/data_table.ipynb>data table notebook</a>'\n",
              "          + ' to learn more about interactive tables.';\n",
              "        element.innerHTML = '';\n",
              "        dataTable['output_type'] = 'display_data';\n",
              "        await google.colab.output.renderOutput(dataTable, element);\n",
              "        const docLink = document.createElement('div');\n",
              "        docLink.innerHTML = docLinkHtml;\n",
              "        element.appendChild(docLink);\n",
              "      }\n",
              "    </script>\n",
              "  </div>\n",
              "\n",
              "\n",
              "<div id=\"df-e82b3ea0-894b-4d1b-a86f-e023db94a274\">\n",
              "  <button class=\"colab-df-quickchart\" onclick=\"quickchart('df-e82b3ea0-894b-4d1b-a86f-e023db94a274')\"\n",
              "            title=\"Suggest charts.\"\n",
              "            style=\"display:none;\">\n",
              "\n",
              "<svg xmlns=\"http://www.w3.org/2000/svg\" height=\"24px\"viewBox=\"0 0 24 24\"\n",
              "     width=\"24px\">\n",
              "    <g>\n",
              "        <path d=\"M19 3H5c-1.1 0-2 .9-2 2v14c0 1.1.9 2 2 2h14c1.1 0 2-.9 2-2V5c0-1.1-.9-2-2-2zM9 17H7v-7h2v7zm4 0h-2V7h2v10zm4 0h-2v-4h2v4z\"/>\n",
              "    </g>\n",
              "</svg>\n",
              "  </button>\n",
              "\n",
              "<style>\n",
              "  .colab-df-quickchart {\n",
              "      --bg-color: #E8F0FE;\n",
              "      --fill-color: #1967D2;\n",
              "      --hover-bg-color: #E2EBFA;\n",
              "      --hover-fill-color: #174EA6;\n",
              "      --disabled-fill-color: #AAA;\n",
              "      --disabled-bg-color: #DDD;\n",
              "  }\n",
              "\n",
              "  [theme=dark] .colab-df-quickchart {\n",
              "      --bg-color: #3B4455;\n",
              "      --fill-color: #D2E3FC;\n",
              "      --hover-bg-color: #434B5C;\n",
              "      --hover-fill-color: #FFFFFF;\n",
              "      --disabled-bg-color: #3B4455;\n",
              "      --disabled-fill-color: #666;\n",
              "  }\n",
              "\n",
              "  .colab-df-quickchart {\n",
              "    background-color: var(--bg-color);\n",
              "    border: none;\n",
              "    border-radius: 50%;\n",
              "    cursor: pointer;\n",
              "    display: none;\n",
              "    fill: var(--fill-color);\n",
              "    height: 32px;\n",
              "    padding: 0;\n",
              "    width: 32px;\n",
              "  }\n",
              "\n",
              "  .colab-df-quickchart:hover {\n",
              "    background-color: var(--hover-bg-color);\n",
              "    box-shadow: 0 1px 2px rgba(60, 64, 67, 0.3), 0 1px 3px 1px rgba(60, 64, 67, 0.15);\n",
              "    fill: var(--button-hover-fill-color);\n",
              "  }\n",
              "\n",
              "  .colab-df-quickchart-complete:disabled,\n",
              "  .colab-df-quickchart-complete:disabled:hover {\n",
              "    background-color: var(--disabled-bg-color);\n",
              "    fill: var(--disabled-fill-color);\n",
              "    box-shadow: none;\n",
              "  }\n",
              "\n",
              "  .colab-df-spinner {\n",
              "    border: 2px solid var(--fill-color);\n",
              "    border-color: transparent;\n",
              "    border-bottom-color: var(--fill-color);\n",
              "    animation:\n",
              "      spin 1s steps(1) infinite;\n",
              "  }\n",
              "\n",
              "  @keyframes spin {\n",
              "    0% {\n",
              "      border-color: transparent;\n",
              "      border-bottom-color: var(--fill-color);\n",
              "      border-left-color: var(--fill-color);\n",
              "    }\n",
              "    20% {\n",
              "      border-color: transparent;\n",
              "      border-left-color: var(--fill-color);\n",
              "      border-top-color: var(--fill-color);\n",
              "    }\n",
              "    30% {\n",
              "      border-color: transparent;\n",
              "      border-left-color: var(--fill-color);\n",
              "      border-top-color: var(--fill-color);\n",
              "      border-right-color: var(--fill-color);\n",
              "    }\n",
              "    40% {\n",
              "      border-color: transparent;\n",
              "      border-right-color: var(--fill-color);\n",
              "      border-top-color: var(--fill-color);\n",
              "    }\n",
              "    60% {\n",
              "      border-color: transparent;\n",
              "      border-right-color: var(--fill-color);\n",
              "    }\n",
              "    80% {\n",
              "      border-color: transparent;\n",
              "      border-right-color: var(--fill-color);\n",
              "      border-bottom-color: var(--fill-color);\n",
              "    }\n",
              "    90% {\n",
              "      border-color: transparent;\n",
              "      border-bottom-color: var(--fill-color);\n",
              "    }\n",
              "  }\n",
              "</style>\n",
              "\n",
              "  <script>\n",
              "    async function quickchart(key) {\n",
              "      const quickchartButtonEl =\n",
              "        document.querySelector('#' + key + ' button');\n",
              "      quickchartButtonEl.disabled = true;  // To prevent multiple clicks.\n",
              "      quickchartButtonEl.classList.add('colab-df-spinner');\n",
              "      try {\n",
              "        const charts = await google.colab.kernel.invokeFunction(\n",
              "            'suggestCharts', [key], {});\n",
              "      } catch (error) {\n",
              "        console.error('Error during call to suggestCharts:', error);\n",
              "      }\n",
              "      quickchartButtonEl.classList.remove('colab-df-spinner');\n",
              "      quickchartButtonEl.classList.add('colab-df-quickchart-complete');\n",
              "    }\n",
              "    (() => {\n",
              "      let quickchartButtonEl =\n",
              "        document.querySelector('#df-e82b3ea0-894b-4d1b-a86f-e023db94a274 button');\n",
              "      quickchartButtonEl.style.display =\n",
              "        google.colab.kernel.accessAllowed ? 'block' : 'none';\n",
              "    })();\n",
              "  </script>\n",
              "</div>\n",
              "    </div>\n",
              "  </div>\n"
            ]
          },
          "metadata": {},
          "execution_count": 35
        }
      ]
    },
    {
      "cell_type": "code",
      "source": [
        "df.SG_UF_OCOR.unique()"
      ],
      "metadata": {
        "colab": {
          "base_uri": "https://localhost:8080/"
        },
        "id": "Lxhj6WCVua81",
        "outputId": "a2c0ecc8-821e-4e85-89da-825e209eb4ee"
      },
      "execution_count": null,
      "outputs": [
        {
          "output_type": "execute_result",
          "data": {
            "text/plain": [
              "array([41., 29., 52., 13., 26., nan, 23., 25., 42., 21., 43., 32., 50.,\n",
              "       35., 14., 22., 33., 12., 15., 11., 53., 31., 17., 24., 51., 28.,\n",
              "       27., 16.])"
            ]
          },
          "metadata": {},
          "execution_count": 36
        }
      ]
    },
    {
      "cell_type": "code",
      "source": [
        "mapeamento = df_uf[\"Nome_UF\"].to_dict()\n",
        "\n",
        "coluna = 'SG_UF_OCOR'\n",
        "\n",
        "# Substituir valores diferentes pelos que estão no mapeamento e o restante por NaN\n",
        "df[coluna] = df[coluna].map(lambda x: mapeamento.get(x, np.nan))\n",
        "\n",
        "df[coluna].unique()"
      ],
      "metadata": {
        "colab": {
          "base_uri": "https://localhost:8080/"
        },
        "id": "L5CYdcq_OetR",
        "outputId": "989d1bba-6b62-43f8-862d-fc4badcf4cec"
      },
      "execution_count": null,
      "outputs": [
        {
          "output_type": "execute_result",
          "data": {
            "text/plain": [
              "array(['Paraná', 'Bahia', 'Goiás', 'Amazonas', 'Pernambuco', nan, 'Ceará',\n",
              "       'Paraíba', 'Santa Catarina', 'Maranhão', 'Rio Grande do Sul',\n",
              "       'Espírito Santo', 'Mato Grosso do Sul', 'São Paulo', 'Roraima',\n",
              "       'Piauí', 'Rio de Janeiro', 'Acre', 'Pará', 'Rondônia',\n",
              "       'Distrito Federal', 'Minas Gerais', 'Tocantins',\n",
              "       'Rio Grande do Norte', 'Mato Grosso', 'Sergipe', 'Alagoas',\n",
              "       'Amapá'], dtype=object)"
            ]
          },
          "metadata": {},
          "execution_count": 37
        }
      ]
    },
    {
      "cell_type": "markdown",
      "source": [
        "#### SG_UF"
      ],
      "metadata": {
        "id": "aio9KbLIXNtB"
      }
    },
    {
      "cell_type": "code",
      "source": [
        "df.SG_UF.unique()"
      ],
      "metadata": {
        "colab": {
          "base_uri": "https://localhost:8080/"
        },
        "id": "teTC9P0audMQ",
        "outputId": "43d6c802-f132-401f-8fec-b37b39cb8297"
      },
      "execution_count": null,
      "outputs": [
        {
          "output_type": "execute_result",
          "data": {
            "text/plain": [
              "array([41., 29., 52., 13., 26., 23., 25., 42., 35., 21., 43., 50., 27.,\n",
              "       14., 22., nan, 31., 12., 33., 15., 11., 53., 32., 24., 51., 28.,\n",
              "       17., 16.])"
            ]
          },
          "metadata": {},
          "execution_count": 38
        }
      ]
    },
    {
      "cell_type": "code",
      "source": [
        "mapeamento = df_uf[\"Nome_UF\"].to_dict()\n",
        "\n",
        "coluna = 'SG_UF'\n",
        "\n",
        "# Substituir valores diferentes pelos que estão no mapeamento e o restante por NaN\n",
        "df[coluna] = df[coluna].map(lambda x: mapeamento.get(x, np.nan))\n",
        "\n",
        "df[coluna].unique()"
      ],
      "metadata": {
        "colab": {
          "base_uri": "https://localhost:8080/"
        },
        "id": "tD2aA1_-UhUH",
        "outputId": "56a1f74d-17bd-4d56-bb86-08a338289d74"
      },
      "execution_count": null,
      "outputs": [
        {
          "output_type": "execute_result",
          "data": {
            "text/plain": [
              "array(['Paraná', 'Bahia', 'Goiás', 'Amazonas', 'Pernambuco', 'Ceará',\n",
              "       'Paraíba', 'Santa Catarina', 'São Paulo', 'Maranhão',\n",
              "       'Rio Grande do Sul', 'Mato Grosso do Sul', 'Alagoas', 'Roraima',\n",
              "       'Piauí', nan, 'Minas Gerais', 'Acre', 'Rio de Janeiro', 'Pará',\n",
              "       'Rondônia', 'Distrito Federal', 'Espírito Santo',\n",
              "       'Rio Grande do Norte', 'Mato Grosso', 'Sergipe', 'Tocantins',\n",
              "       'Amapá'], dtype=object)"
            ]
          },
          "metadata": {},
          "execution_count": 39
        }
      ]
    },
    {
      "cell_type": "markdown",
      "source": [
        "#### SG_UF_NOT"
      ],
      "metadata": {
        "id": "ItK7dDimXTED"
      }
    },
    {
      "cell_type": "code",
      "source": [
        "df.SG_UF_NOT.unique()"
      ],
      "metadata": {
        "colab": {
          "base_uri": "https://localhost:8080/"
        },
        "id": "mk6q_1kCuip0",
        "outputId": "4c20c170-00ea-42b6-f800-dbed1ce3667b"
      },
      "execution_count": null,
      "outputs": [
        {
          "output_type": "execute_result",
          "data": {
            "text/plain": [
              "array([41., 29., 52., 13., 26., 23., 25., 42., 21., 43., 50., 27., 14.,\n",
              "       22., 35., 31., 12., 33., 15., 53., 32., 24., 51., 11., 28., 17.,\n",
              "       16., nan])"
            ]
          },
          "metadata": {},
          "execution_count": 40
        }
      ]
    },
    {
      "cell_type": "code",
      "source": [
        "mapeamento = df_uf[\"Nome_UF\"].to_dict()\n",
        "\n",
        "coluna = 'SG_UF_NOT'\n",
        "\n",
        "# Substituir valores diferentes pelos que estão no mapeamento e o restante por NaN\n",
        "df[coluna] = df[coluna].map(lambda x: mapeamento.get(x, np.nan))\n",
        "\n",
        "df[coluna].unique()"
      ],
      "metadata": {
        "colab": {
          "base_uri": "https://localhost:8080/"
        },
        "id": "S6FFnyotU9dv",
        "outputId": "027e45e2-642a-47e0-807a-d3539ca1f908"
      },
      "execution_count": null,
      "outputs": [
        {
          "output_type": "execute_result",
          "data": {
            "text/plain": [
              "array(['Paraná', 'Bahia', 'Goiás', 'Amazonas', 'Pernambuco', 'Ceará',\n",
              "       'Paraíba', 'Santa Catarina', 'Maranhão', 'Rio Grande do Sul',\n",
              "       'Mato Grosso do Sul', 'Alagoas', 'Roraima', 'Piauí', 'São Paulo',\n",
              "       'Minas Gerais', 'Acre', 'Rio de Janeiro', 'Pará',\n",
              "       'Distrito Federal', 'Espírito Santo', 'Rio Grande do Norte',\n",
              "       'Mato Grosso', 'Rondônia', 'Sergipe', 'Tocantins', 'Amapá', nan],\n",
              "      dtype=object)"
            ]
          },
          "metadata": {},
          "execution_count": 41
        }
      ]
    },
    {
      "cell_type": "markdown",
      "source": [
        "#### ID_OCUPA_N\n",
        "Equivalencia vinda do CBO (Classificação Brasileira de Ocupações)"
      ],
      "metadata": {
        "id": "DZ2hXIJtWql7"
      }
    },
    {
      "cell_type": "code",
      "source": [
        "df_cbo = pd.read_csv('CBO2002 - Ocupacao.csv', encoding='latin-1', sep=';')"
      ],
      "metadata": {
        "id": "Js5r5yKwRnoQ"
      },
      "execution_count": null,
      "outputs": []
    },
    {
      "cell_type": "code",
      "source": [
        "df_cbo.head()"
      ],
      "metadata": {
        "colab": {
          "base_uri": "https://localhost:8080/",
          "height": 206
        },
        "id": "8yrHvag2TV-H",
        "outputId": "588a72f9-db3d-4dde-eef2-18a1cefd33a2"
      },
      "execution_count": null,
      "outputs": [
        {
          "output_type": "execute_result",
          "data": {
            "text/plain": [
              "   CODIGO                          TITULO\n",
              "0   10105  Oficial general da aeronáutica\n",
              "1   10110     Oficial general do exército\n",
              "2   10115      Oficial general da marinha\n",
              "3   10205          Oficial da aeronáutica\n",
              "4   10210             Oficial do exército"
            ],
            "text/html": [
              "\n",
              "  <div id=\"df-5b644087-34dd-4a66-9371-e3bf66c0cdfb\" class=\"colab-df-container\">\n",
              "    <div>\n",
              "<style scoped>\n",
              "    .dataframe tbody tr th:only-of-type {\n",
              "        vertical-align: middle;\n",
              "    }\n",
              "\n",
              "    .dataframe tbody tr th {\n",
              "        vertical-align: top;\n",
              "    }\n",
              "\n",
              "    .dataframe thead th {\n",
              "        text-align: right;\n",
              "    }\n",
              "</style>\n",
              "<table border=\"1\" class=\"dataframe\">\n",
              "  <thead>\n",
              "    <tr style=\"text-align: right;\">\n",
              "      <th></th>\n",
              "      <th>CODIGO</th>\n",
              "      <th>TITULO</th>\n",
              "    </tr>\n",
              "  </thead>\n",
              "  <tbody>\n",
              "    <tr>\n",
              "      <th>0</th>\n",
              "      <td>10105</td>\n",
              "      <td>Oficial general da aeronáutica</td>\n",
              "    </tr>\n",
              "    <tr>\n",
              "      <th>1</th>\n",
              "      <td>10110</td>\n",
              "      <td>Oficial general do exército</td>\n",
              "    </tr>\n",
              "    <tr>\n",
              "      <th>2</th>\n",
              "      <td>10115</td>\n",
              "      <td>Oficial general da marinha</td>\n",
              "    </tr>\n",
              "    <tr>\n",
              "      <th>3</th>\n",
              "      <td>10205</td>\n",
              "      <td>Oficial da aeronáutica</td>\n",
              "    </tr>\n",
              "    <tr>\n",
              "      <th>4</th>\n",
              "      <td>10210</td>\n",
              "      <td>Oficial do exército</td>\n",
              "    </tr>\n",
              "  </tbody>\n",
              "</table>\n",
              "</div>\n",
              "    <div class=\"colab-df-buttons\">\n",
              "\n",
              "  <div class=\"colab-df-container\">\n",
              "    <button class=\"colab-df-convert\" onclick=\"convertToInteractive('df-5b644087-34dd-4a66-9371-e3bf66c0cdfb')\"\n",
              "            title=\"Convert this dataframe to an interactive table.\"\n",
              "            style=\"display:none;\">\n",
              "\n",
              "  <svg xmlns=\"http://www.w3.org/2000/svg\" height=\"24px\" viewBox=\"0 -960 960 960\">\n",
              "    <path d=\"M120-120v-720h720v720H120Zm60-500h600v-160H180v160Zm220 220h160v-160H400v160Zm0 220h160v-160H400v160ZM180-400h160v-160H180v160Zm440 0h160v-160H620v160ZM180-180h160v-160H180v160Zm440 0h160v-160H620v160Z\"/>\n",
              "  </svg>\n",
              "    </button>\n",
              "\n",
              "  <style>\n",
              "    .colab-df-container {\n",
              "      display:flex;\n",
              "      gap: 12px;\n",
              "    }\n",
              "\n",
              "    .colab-df-convert {\n",
              "      background-color: #E8F0FE;\n",
              "      border: none;\n",
              "      border-radius: 50%;\n",
              "      cursor: pointer;\n",
              "      display: none;\n",
              "      fill: #1967D2;\n",
              "      height: 32px;\n",
              "      padding: 0 0 0 0;\n",
              "      width: 32px;\n",
              "    }\n",
              "\n",
              "    .colab-df-convert:hover {\n",
              "      background-color: #E2EBFA;\n",
              "      box-shadow: 0px 1px 2px rgba(60, 64, 67, 0.3), 0px 1px 3px 1px rgba(60, 64, 67, 0.15);\n",
              "      fill: #174EA6;\n",
              "    }\n",
              "\n",
              "    .colab-df-buttons div {\n",
              "      margin-bottom: 4px;\n",
              "    }\n",
              "\n",
              "    [theme=dark] .colab-df-convert {\n",
              "      background-color: #3B4455;\n",
              "      fill: #D2E3FC;\n",
              "    }\n",
              "\n",
              "    [theme=dark] .colab-df-convert:hover {\n",
              "      background-color: #434B5C;\n",
              "      box-shadow: 0px 1px 3px 1px rgba(0, 0, 0, 0.15);\n",
              "      filter: drop-shadow(0px 1px 2px rgba(0, 0, 0, 0.3));\n",
              "      fill: #FFFFFF;\n",
              "    }\n",
              "  </style>\n",
              "\n",
              "    <script>\n",
              "      const buttonEl =\n",
              "        document.querySelector('#df-5b644087-34dd-4a66-9371-e3bf66c0cdfb button.colab-df-convert');\n",
              "      buttonEl.style.display =\n",
              "        google.colab.kernel.accessAllowed ? 'block' : 'none';\n",
              "\n",
              "      async function convertToInteractive(key) {\n",
              "        const element = document.querySelector('#df-5b644087-34dd-4a66-9371-e3bf66c0cdfb');\n",
              "        const dataTable =\n",
              "          await google.colab.kernel.invokeFunction('convertToInteractive',\n",
              "                                                    [key], {});\n",
              "        if (!dataTable) return;\n",
              "\n",
              "        const docLinkHtml = 'Like what you see? Visit the ' +\n",
              "          '<a target=\"_blank\" href=https://colab.research.google.com/notebooks/data_table.ipynb>data table notebook</a>'\n",
              "          + ' to learn more about interactive tables.';\n",
              "        element.innerHTML = '';\n",
              "        dataTable['output_type'] = 'display_data';\n",
              "        await google.colab.output.renderOutput(dataTable, element);\n",
              "        const docLink = document.createElement('div');\n",
              "        docLink.innerHTML = docLinkHtml;\n",
              "        element.appendChild(docLink);\n",
              "      }\n",
              "    </script>\n",
              "  </div>\n",
              "\n",
              "\n",
              "<div id=\"df-3af512c3-7def-41d6-8e39-3921e33a34a5\">\n",
              "  <button class=\"colab-df-quickchart\" onclick=\"quickchart('df-3af512c3-7def-41d6-8e39-3921e33a34a5')\"\n",
              "            title=\"Suggest charts.\"\n",
              "            style=\"display:none;\">\n",
              "\n",
              "<svg xmlns=\"http://www.w3.org/2000/svg\" height=\"24px\"viewBox=\"0 0 24 24\"\n",
              "     width=\"24px\">\n",
              "    <g>\n",
              "        <path d=\"M19 3H5c-1.1 0-2 .9-2 2v14c0 1.1.9 2 2 2h14c1.1 0 2-.9 2-2V5c0-1.1-.9-2-2-2zM9 17H7v-7h2v7zm4 0h-2V7h2v10zm4 0h-2v-4h2v4z\"/>\n",
              "    </g>\n",
              "</svg>\n",
              "  </button>\n",
              "\n",
              "<style>\n",
              "  .colab-df-quickchart {\n",
              "      --bg-color: #E8F0FE;\n",
              "      --fill-color: #1967D2;\n",
              "      --hover-bg-color: #E2EBFA;\n",
              "      --hover-fill-color: #174EA6;\n",
              "      --disabled-fill-color: #AAA;\n",
              "      --disabled-bg-color: #DDD;\n",
              "  }\n",
              "\n",
              "  [theme=dark] .colab-df-quickchart {\n",
              "      --bg-color: #3B4455;\n",
              "      --fill-color: #D2E3FC;\n",
              "      --hover-bg-color: #434B5C;\n",
              "      --hover-fill-color: #FFFFFF;\n",
              "      --disabled-bg-color: #3B4455;\n",
              "      --disabled-fill-color: #666;\n",
              "  }\n",
              "\n",
              "  .colab-df-quickchart {\n",
              "    background-color: var(--bg-color);\n",
              "    border: none;\n",
              "    border-radius: 50%;\n",
              "    cursor: pointer;\n",
              "    display: none;\n",
              "    fill: var(--fill-color);\n",
              "    height: 32px;\n",
              "    padding: 0;\n",
              "    width: 32px;\n",
              "  }\n",
              "\n",
              "  .colab-df-quickchart:hover {\n",
              "    background-color: var(--hover-bg-color);\n",
              "    box-shadow: 0 1px 2px rgba(60, 64, 67, 0.3), 0 1px 3px 1px rgba(60, 64, 67, 0.15);\n",
              "    fill: var(--button-hover-fill-color);\n",
              "  }\n",
              "\n",
              "  .colab-df-quickchart-complete:disabled,\n",
              "  .colab-df-quickchart-complete:disabled:hover {\n",
              "    background-color: var(--disabled-bg-color);\n",
              "    fill: var(--disabled-fill-color);\n",
              "    box-shadow: none;\n",
              "  }\n",
              "\n",
              "  .colab-df-spinner {\n",
              "    border: 2px solid var(--fill-color);\n",
              "    border-color: transparent;\n",
              "    border-bottom-color: var(--fill-color);\n",
              "    animation:\n",
              "      spin 1s steps(1) infinite;\n",
              "  }\n",
              "\n",
              "  @keyframes spin {\n",
              "    0% {\n",
              "      border-color: transparent;\n",
              "      border-bottom-color: var(--fill-color);\n",
              "      border-left-color: var(--fill-color);\n",
              "    }\n",
              "    20% {\n",
              "      border-color: transparent;\n",
              "      border-left-color: var(--fill-color);\n",
              "      border-top-color: var(--fill-color);\n",
              "    }\n",
              "    30% {\n",
              "      border-color: transparent;\n",
              "      border-left-color: var(--fill-color);\n",
              "      border-top-color: var(--fill-color);\n",
              "      border-right-color: var(--fill-color);\n",
              "    }\n",
              "    40% {\n",
              "      border-color: transparent;\n",
              "      border-right-color: var(--fill-color);\n",
              "      border-top-color: var(--fill-color);\n",
              "    }\n",
              "    60% {\n",
              "      border-color: transparent;\n",
              "      border-right-color: var(--fill-color);\n",
              "    }\n",
              "    80% {\n",
              "      border-color: transparent;\n",
              "      border-right-color: var(--fill-color);\n",
              "      border-bottom-color: var(--fill-color);\n",
              "    }\n",
              "    90% {\n",
              "      border-color: transparent;\n",
              "      border-bottom-color: var(--fill-color);\n",
              "    }\n",
              "  }\n",
              "</style>\n",
              "\n",
              "  <script>\n",
              "    async function quickchart(key) {\n",
              "      const quickchartButtonEl =\n",
              "        document.querySelector('#' + key + ' button');\n",
              "      quickchartButtonEl.disabled = true;  // To prevent multiple clicks.\n",
              "      quickchartButtonEl.classList.add('colab-df-spinner');\n",
              "      try {\n",
              "        const charts = await google.colab.kernel.invokeFunction(\n",
              "            'suggestCharts', [key], {});\n",
              "      } catch (error) {\n",
              "        console.error('Error during call to suggestCharts:', error);\n",
              "      }\n",
              "      quickchartButtonEl.classList.remove('colab-df-spinner');\n",
              "      quickchartButtonEl.classList.add('colab-df-quickchart-complete');\n",
              "    }\n",
              "    (() => {\n",
              "      let quickchartButtonEl =\n",
              "        document.querySelector('#df-3af512c3-7def-41d6-8e39-3921e33a34a5 button');\n",
              "      quickchartButtonEl.style.display =\n",
              "        google.colab.kernel.accessAllowed ? 'block' : 'none';\n",
              "    })();\n",
              "  </script>\n",
              "</div>\n",
              "    </div>\n",
              "  </div>\n"
            ]
          },
          "metadata": {},
          "execution_count": 43
        }
      ]
    },
    {
      "cell_type": "code",
      "source": [
        "df.ID_OCUPA_N.unique()"
      ],
      "metadata": {
        "colab": {
          "base_uri": "https://localhost:8080/"
        },
        "id": "dTsm3gkdubdY",
        "outputId": "62b53abd-7663-41f7-f384-b66407d5ab44"
      },
      "execution_count": null,
      "outputs": [
        {
          "output_type": "execute_result",
          "data": {
            "text/plain": [
              "array([    nan, 524205., 999991., ..., 214745., 762125., 722105.])"
            ]
          },
          "metadata": {},
          "execution_count": 44
        }
      ]
    },
    {
      "cell_type": "code",
      "source": [
        "df_cbo.set_index(\"CODIGO\", inplace=True)\n",
        "mapeamento = df_cbo[\"TITULO\"].to_dict()\n",
        "\n",
        "coluna = 'ID_OCUPA_N'\n",
        "\n",
        "# Substituir valores diferentes pelos que estão no mapeamento e o restante por NaN\n",
        "df[coluna] = df[coluna].map(lambda x: mapeamento.get(x, np.nan))\n",
        "\n",
        "df[coluna].unique()"
      ],
      "metadata": {
        "colab": {
          "base_uri": "https://localhost:8080/"
        },
        "id": "at625VyNTfVq",
        "outputId": "e616e11e-a181-4bfb-d0c5-7cf2450a3d3f"
      },
      "execution_count": null,
      "outputs": [
        {
          "output_type": "execute_result",
          "data": {
            "text/plain": [
              "array([nan, 'Feirante', 'Caseiro (agricultura)', ...,\n",
              "       'Tecnólogo em petróleo e gás', 'Rachador de couros e peles',\n",
              "       'Forjador'], dtype=object)"
            ]
          },
          "metadata": {},
          "execution_count": 45
        }
      ]
    },
    {
      "cell_type": "code",
      "source": [
        "df.to_csv('drive/MyDrive/violencia_2009_2021_tratado.csv', index = False)"
      ],
      "metadata": {
        "id": "YDabJ_Kjj9H7"
      },
      "execution_count": null,
      "outputs": []
    }
  ]
}
