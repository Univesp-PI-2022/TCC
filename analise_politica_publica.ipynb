import pandas as pd
import matplotlib.pyplot as plt

data = pd.read_csv("vitimas.csv", sep=";")
data_h = data.query("tipo == 'Homicídio doloso' and sexo == 'Feminino'").sort_values(by=['ano']).groupby("ano", as_index =False)["total"].sum()

xdata = data_h.get("ano").tolist()
ydata = data_h.get("total").tolist()


data_th = data.query("tipo == 'Lesão corporal seguida de morte' and sexo == 'Feminino'").sort_values(by=['ano']).groupby("ano", as_index =False)["total"].sum()

ydata2 = data_th.get("total").tolist()

plt.plot(xdata, ydata, color='r', label='Homicídio doloso')
plt.plot(xdata, ydata2, color='b', label='Lesão corporal seguida de morte')

plt.xlabel("Ano")
plt.ylabel("Quantidade")

plt.legend() 
plt.title("Quantidade de Feminicídios por ano")
